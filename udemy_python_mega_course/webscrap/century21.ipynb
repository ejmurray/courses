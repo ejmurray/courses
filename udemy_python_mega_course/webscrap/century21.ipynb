{
 "cells": [
  {
   "cell_type": "code",
   "execution_count": 4,
   "metadata": {
    "collapsed": false
   },
   "outputs": [
    {
     "name": "stdout",
     "output_type": "stream",
     "text": [
      "London\n",
      "Paris\n",
      "Tokyo\n"
     ]
    }
   ],
   "source": [
    "import requests\n",
    "from bs4 import BeautifulSoup\n",
    "\n",
    "r=requests.get(\"http://pythonhow.com/example.html\")\n",
    "c=r.content\n",
    "\n",
    "soup=BeautifulSoup(c, \"html.parser\")\n",
    "\n",
    "all=soup.find_all(\"div\",{\"class\":\"cities\"})#[0]\n",
    "\n",
    "#all[0].find_all(\"h2\")[0].text\n",
    "\n",
    "for item in all:\n",
    "    print(item.find_all(\"h2\")[0].text)"
   ]
  },
  {
   "cell_type": "code",
   "execution_count": 20,
   "metadata": {
    "collapsed": false
   },
   "outputs": [],
   "source": [
    "import pandas\n",
    "import requests\n",
    "from bs4 import BeautifulSoup\n",
    "\n",
    "base_url=\"http://pythonhow.com/real-estate/rock-springs-wy/LCWYROCKSPRINGS/t=0&s=\"\n",
    "headers = {'user-agent': 'Mozilla/5.0'} #define user agent\n",
    "r=requests.get(base_url + '0' + \".html\", headers) #use the first page to get the number of pages\n",
    "c=r.content\n",
    "soup=BeautifulSoup(c, \"html.parser\")\n",
    "page_nr=soup.find_all(\"a\", {\"class\": \"Page\"})[-1].text #get the number of pages\n",
    "l=[]\n",
    "for page in range(0, int(page_nr)*10, 10):\n",
    "    if page != 0: #skips the steps below for the first page because we did them earlier\n",
    "        r=requests.get(base_url + str(page) + \".html\", headers)\n",
    "        c=r.content\n",
    "        soup=BeautifulSoup(c, \"html.parser\")\n",
    "    \n",
    "    all=soup.find_all(\"div\", {\"class\" : \"propertyRow\"})\n",
    "\n",
    "    for item in all:\n",
    "        d={}\n",
    "        try:\n",
    "            d[\"Address\"]=item.find_all(\"span\", {\"class\" : \"propAddressCollapse\"})[0].text\n",
    "        except:\n",
    "            d[\"Address\"]=None\n",
    "        try:\n",
    "            d[\"Locality\"]=item.find_all(\"span\", {\"class\" : \"propAddressCollapse\"})[1].text\n",
    "        except:\n",
    "            d[\"Locality\"]=None\n",
    "        try:\n",
    "            d[\"Price\"]=item.find(\"h4\", {\"class\" : \"propPrice\"}).text.replace('\\n', \"\").replace(\" \", \"\")\n",
    "        except:\n",
    "            d[\"Price\"]=None\n",
    "        try:\n",
    "            d[\"Beds\"]=item.find(\"span\", {\"class\" : \"infoBed\"}).find(\"b\").text\n",
    "        except:\n",
    "            d[\"Beds\"]=None\n",
    "        try:\n",
    "            d[\"Area\"]=item.find(\"span\", {\"class\" : \"infoSqFt\"}).find(\"b\").text\n",
    "        except:\n",
    "            d[\"Area\"]=None\n",
    "        try:\n",
    "            d[\"Full Baths\"]=item.find(\"span\", {\"class\" : \"infoValueFullBath\"}).find(\"b\").text\n",
    "        except:\n",
    "            d[\"Full Baths\"]=None\n",
    "        try:\n",
    "            d[\"Half Beds\"]=item.find(\"span\", {\"class\" : \"infoValueHalfBath\"}).find(\"b\").text\n",
    "        except:\n",
    "            d[\"Half Beds\"]=None\n",
    "        for column_group in item.find_all(\"div\", {\"class\" : \"columnGroup\"}):\n",
    "            for feature_group, feature_name in zip(column_group.find_all(\"span\", {\"class\" : \"featureGroup\"}), column_group.find_all(\"span\", {\"class\" : \"featureName\"})):\n",
    "                if \"Lot Size\" in feature_group.text:\n",
    "                    try:\n",
    "                        d[\"Lot Size\"]=feature_name.text        \n",
    "                    except:\n",
    "                        d[\"Lot Size\"]=None\n",
    "        l.append(d)\n",
    "\n",
    "df = pandas.DataFrame(l)\n",
    "df.to_csv(\"output.csv\")"
   ]
  }
 ],
 "metadata": {
  "kernelspec": {
   "display_name": "Python 3",
   "language": "python",
   "name": "python3"
  },
  "language_info": {
   "codemirror_mode": {
    "name": "ipython",
    "version": 3
   },
   "file_extension": ".py",
   "mimetype": "text/x-python",
   "name": "python",
   "nbconvert_exporter": "python",
   "pygments_lexer": "ipython3",
   "version": "3.5.2"
  }
 },
 "nbformat": 4,
 "nbformat_minor": 1
}

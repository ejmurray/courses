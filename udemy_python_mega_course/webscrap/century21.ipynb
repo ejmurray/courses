{
 "cells": [
  {
   "cell_type": "code",
   "execution_count": 4,
   "metadata": {
    "collapsed": false
   },
   "outputs": [
    {
     "name": "stdout",
     "output_type": "stream",
     "text": [
      "London\n",
      "Paris\n",
      "Tokyo\n"
     ]
    }
   ],
   "source": [
    "import requests\n",
    "from bs4 import BeautifulSoup\n",
    "\n",
    "r=requests.get(\"http://pythonhow.com/example.html\")\n",
    "c=r.content\n",
    "\n",
    "soup=BeautifulSoup(c, \"html.parser\")\n",
    "\n",
    "all=soup.find_all(\"div\",{\"class\":\"cities\"})#[0]\n",
    "\n",
    "#all[0].find_all(\"h2\")[0].text\n",
    "\n",
    "for item in all:\n",
    "    print(item.find_all(\"h2\")[0].text)"
   ]
  },
  {
   "cell_type": "code",
   "execution_count": 18,
   "metadata": {
    "collapsed": false
   },
   "outputs": [
    {
     "name": "stdout",
     "output_type": "stream",
     "text": [
      "$725,000\n",
      "0 Gateway\n",
      "Rock Springs, WY 82901\n",
      "None\n",
      "None\n",
      "None\n",
      "None\n",
      "\n",
      "$452,900\n",
      "1003 Winchester Blvd.\n",
      "Rock Springs, WY 82901\n",
      "4\n",
      "None\n",
      "4\n",
      "None\n",
      "0.21 Acres\n",
      "\n",
      "$396,900\n",
      "600 Talladega\n",
      "Rock Springs, WY 82901\n",
      "5\n",
      "3,154\n",
      "3\n",
      "None\n",
      "\n",
      "$389,900\n",
      "3239 Spearhead Way\n",
      "Rock Springs, WY 82901\n",
      "4\n",
      "3,076\n",
      "3\n",
      "1\n",
      "Under 1/2 Acre, \n",
      "\n",
      "$254,000\n",
      "522 Emerald Street\n",
      "Rock Springs, WY 82901\n",
      "3\n",
      "1,172\n",
      "3\n",
      "None\n",
      "Under 1/2 Acre, \n",
      "\n",
      "$252,900\n",
      "1302 Veteran's Drive\n",
      "Rock Springs, WY 82901\n",
      "4\n",
      "1,932\n",
      "2\n",
      "None\n",
      "0.27 Acres\n",
      "\n",
      "$210,000\n",
      "1021 Cypress Cir\n",
      "Rock Springs, WY 82901\n",
      "4\n",
      "1,676\n",
      "3\n",
      "None\n",
      "Under 1/2 Acre, \n",
      "\n",
      "$209,000\n",
      "913 Madison Dr\n",
      "Rock Springs, WY 82901\n",
      "3\n",
      "1,344\n",
      "2\n",
      "None\n",
      "Under 1/2 Acre, \n",
      "\n",
      "$199,900\n",
      "1344 Teton Street\n",
      "Rock Springs, WY 82901\n",
      "3\n",
      "1,920\n",
      "2\n",
      "None\n",
      "Under 1/2 Acre, \n",
      "\n",
      "$196,900\n",
      "4 Minnies Lane\n",
      "Rock Springs, WY 82901\n",
      "3\n",
      "1,664\n",
      "2\n",
      "None\n",
      "2.02 Acres\n",
      "\n"
     ]
    }
   ],
   "source": [
    "import requests\n",
    "from bs4 import BeautifulSoup\n",
    "\n",
    "r=requests.get(\"http://pythonhow.com/real-estate/rock-springs-wy/LCWYROCKSPRINGS/\")\n",
    "c=r.content\n",
    "soup=BeautifulSoup(c, \"html.parser\")\n",
    "\n",
    "all=soup.find_all(\"div\", {\"class\" : \"propertyRow\"})\n",
    "\n",
    "for item in all:\n",
    "    print(item.find(\"h4\", {\"class\" : \"propPrice\"}).text.replace('\\n', \"\").replace(\" \", \"\"))\n",
    "    print(item.find_all(\"span\", {\"class\" : \"propAddressCollapse\"})[0].text)\n",
    "    print(item.find_all(\"span\", {\"class\" : \"propAddressCollapse\"})[1].text)\n",
    "    try:\n",
    "        print(item.find(\"span\", {\"class\" : \"infoBed\"}).find(\"b\").text)\n",
    "    except:\n",
    "        print(None)\n",
    "    try:\n",
    "        print(item.find(\"span\", {\"class\" : \"infoSqFt\"}).find(\"b\").text)\n",
    "    except:\n",
    "        print(None)\n",
    "    try:\n",
    "        print(item.find(\"span\", {\"class\" : \"infoValueFullBath\"}).find(\"b\").text)\n",
    "    except:\n",
    "        print(None)\n",
    "    try:\n",
    "        print(item.find(\"span\", {\"class\" : \"infoValueHalfBath\"}).find(\"b\").text)\n",
    "    except:\n",
    "        print(None)\n",
    "    for column_group in item.find_all(\"div\", {\"class\" : \"columnGroup\"}):\n",
    "        for feature_group, feature_name in zip(column_group.find_all(\"span\", {\"class\" : \"featureGroup\"}), column_group.find_all(\"span\", {\"class\" : \"featureName\"})):\n",
    "            if \"Lot Size\" in feature_group.text:\n",
    "                print(feature_name.text)\n",
    "    \n",
    "    print(\"\")\n",
    "        \n"
   ]
  },
  {
   "cell_type": "code",
   "execution_count": null,
   "metadata": {
    "collapsed": true
   },
   "outputs": [],
   "source": []
  }
 ],
 "metadata": {
  "kernelspec": {
   "display_name": "Python 3",
   "language": "python",
   "name": "python3"
  },
  "language_info": {
   "codemirror_mode": {
    "name": "ipython",
    "version": 3
   },
   "file_extension": ".py",
   "mimetype": "text/x-python",
   "name": "python",
   "nbconvert_exporter": "python",
   "pygments_lexer": "ipython3",
   "version": "3.5.2"
  }
 },
 "nbformat": 4,
 "nbformat_minor": 1
}
